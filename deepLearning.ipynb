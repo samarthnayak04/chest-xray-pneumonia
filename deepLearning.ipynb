{
  "cells": [
    {
      "cell_type": "code",
      "execution_count": 1,
      "id": "45c750ac-858a-4674-abb1-b9584cc458b0",
      "metadata": {
        "colab": {
          "base_uri": "https://localhost:8080/"
        },
        "id": "45c750ac-858a-4674-abb1-b9584cc458b0",
        "outputId": "33ae10d5-ac3a-4166-bf57-b0493b189e75"
      },
      "outputs": [
        {
          "output_type": "stream",
          "name": "stdout",
          "text": [
            "Requirement already satisfied: matplotlib in /usr/local/lib/python3.12/dist-packages (3.10.0)\n",
            "Requirement already satisfied: seaborn in /usr/local/lib/python3.12/dist-packages (0.13.2)\n",
            "Requirement already satisfied: numpy in /usr/local/lib/python3.12/dist-packages (2.0.2)\n",
            "Requirement already satisfied: pandas in /usr/local/lib/python3.12/dist-packages (2.2.2)\n",
            "Requirement already satisfied: contourpy>=1.0.1 in /usr/local/lib/python3.12/dist-packages (from matplotlib) (1.3.3)\n",
            "Requirement already satisfied: cycler>=0.10 in /usr/local/lib/python3.12/dist-packages (from matplotlib) (0.12.1)\n",
            "Requirement already satisfied: fonttools>=4.22.0 in /usr/local/lib/python3.12/dist-packages (from matplotlib) (4.59.1)\n",
            "Requirement already satisfied: kiwisolver>=1.3.1 in /usr/local/lib/python3.12/dist-packages (from matplotlib) (1.4.9)\n",
            "Requirement already satisfied: packaging>=20.0 in /usr/local/lib/python3.12/dist-packages (from matplotlib) (25.0)\n",
            "Requirement already satisfied: pillow>=8 in /usr/local/lib/python3.12/dist-packages (from matplotlib) (11.3.0)\n",
            "Requirement already satisfied: pyparsing>=2.3.1 in /usr/local/lib/python3.12/dist-packages (from matplotlib) (3.2.3)\n",
            "Requirement already satisfied: python-dateutil>=2.7 in /usr/local/lib/python3.12/dist-packages (from matplotlib) (2.9.0.post0)\n",
            "Requirement already satisfied: pytz>=2020.1 in /usr/local/lib/python3.12/dist-packages (from pandas) (2025.2)\n",
            "Requirement already satisfied: tzdata>=2022.7 in /usr/local/lib/python3.12/dist-packages (from pandas) (2025.2)\n",
            "Requirement already satisfied: six>=1.5 in /usr/local/lib/python3.12/dist-packages (from python-dateutil>=2.7->matplotlib) (1.17.0)\n"
          ]
        }
      ],
      "source": [
        "\n",
        "\n",
        "# !python -m ipykernel install --user --name=tf_env --display-name \"Python 3.11 (tf_env)\"\n",
        "!pip install matplotlib seaborn numpy pandas\n"
      ]
    },
    {
      "cell_type": "code",
      "execution_count": 38,
      "id": "262a133a-ffd1-4139-b855-33fe6ec59582",
      "metadata": {
        "colab": {
          "base_uri": "https://localhost:8080/"
        },
        "id": "262a133a-ffd1-4139-b855-33fe6ec59582",
        "outputId": "f0a4d017-0b75-4dba-b093-ddf5e11e1466"
      },
      "outputs": [
        {
          "output_type": "stream",
          "name": "stdout",
          "text": [
            "Requirement already satisfied: tensorflow in /usr/local/lib/python3.12/dist-packages (2.19.0)\n",
            "Requirement already satisfied: absl-py>=1.0.0 in /usr/local/lib/python3.12/dist-packages (from tensorflow) (1.4.0)\n",
            "Requirement already satisfied: astunparse>=1.6.0 in /usr/local/lib/python3.12/dist-packages (from tensorflow) (1.6.3)\n",
            "Requirement already satisfied: flatbuffers>=24.3.25 in /usr/local/lib/python3.12/dist-packages (from tensorflow) (25.2.10)\n",
            "Requirement already satisfied: gast!=0.5.0,!=0.5.1,!=0.5.2,>=0.2.1 in /usr/local/lib/python3.12/dist-packages (from tensorflow) (0.6.0)\n",
            "Requirement already satisfied: google-pasta>=0.1.1 in /usr/local/lib/python3.12/dist-packages (from tensorflow) (0.2.0)\n",
            "Requirement already satisfied: libclang>=13.0.0 in /usr/local/lib/python3.12/dist-packages (from tensorflow) (18.1.1)\n",
            "Requirement already satisfied: opt-einsum>=2.3.2 in /usr/local/lib/python3.12/dist-packages (from tensorflow) (3.4.0)\n",
            "Requirement already satisfied: packaging in /usr/local/lib/python3.12/dist-packages (from tensorflow) (25.0)\n",
            "Requirement already satisfied: protobuf!=4.21.0,!=4.21.1,!=4.21.2,!=4.21.3,!=4.21.4,!=4.21.5,<6.0.0dev,>=3.20.3 in /usr/local/lib/python3.12/dist-packages (from tensorflow) (5.29.5)\n",
            "Requirement already satisfied: requests<3,>=2.21.0 in /usr/local/lib/python3.12/dist-packages (from tensorflow) (2.32.4)\n",
            "Requirement already satisfied: setuptools in /usr/local/lib/python3.12/dist-packages (from tensorflow) (75.2.0)\n",
            "Requirement already satisfied: six>=1.12.0 in /usr/local/lib/python3.12/dist-packages (from tensorflow) (1.17.0)\n",
            "Requirement already satisfied: termcolor>=1.1.0 in /usr/local/lib/python3.12/dist-packages (from tensorflow) (3.1.0)\n",
            "Requirement already satisfied: typing-extensions>=3.6.6 in /usr/local/lib/python3.12/dist-packages (from tensorflow) (4.14.1)\n",
            "Requirement already satisfied: wrapt>=1.11.0 in /usr/local/lib/python3.12/dist-packages (from tensorflow) (1.17.3)\n",
            "Requirement already satisfied: grpcio<2.0,>=1.24.3 in /usr/local/lib/python3.12/dist-packages (from tensorflow) (1.74.0)\n",
            "Requirement already satisfied: tensorboard~=2.19.0 in /usr/local/lib/python3.12/dist-packages (from tensorflow) (2.19.0)\n",
            "Requirement already satisfied: keras>=3.5.0 in /usr/local/lib/python3.12/dist-packages (from tensorflow) (3.10.0)\n",
            "Requirement already satisfied: numpy<2.2.0,>=1.26.0 in /usr/local/lib/python3.12/dist-packages (from tensorflow) (2.0.2)\n",
            "Requirement already satisfied: h5py>=3.11.0 in /usr/local/lib/python3.12/dist-packages (from tensorflow) (3.14.0)\n",
            "Requirement already satisfied: ml-dtypes<1.0.0,>=0.5.1 in /usr/local/lib/python3.12/dist-packages (from tensorflow) (0.5.3)\n",
            "Requirement already satisfied: wheel<1.0,>=0.23.0 in /usr/local/lib/python3.12/dist-packages (from astunparse>=1.6.0->tensorflow) (0.45.1)\n",
            "Requirement already satisfied: rich in /usr/local/lib/python3.12/dist-packages (from keras>=3.5.0->tensorflow) (13.9.4)\n",
            "Requirement already satisfied: namex in /usr/local/lib/python3.12/dist-packages (from keras>=3.5.0->tensorflow) (0.1.0)\n",
            "Requirement already satisfied: optree in /usr/local/lib/python3.12/dist-packages (from keras>=3.5.0->tensorflow) (0.17.0)\n",
            "Requirement already satisfied: charset_normalizer<4,>=2 in /usr/local/lib/python3.12/dist-packages (from requests<3,>=2.21.0->tensorflow) (3.4.3)\n",
            "Requirement already satisfied: idna<4,>=2.5 in /usr/local/lib/python3.12/dist-packages (from requests<3,>=2.21.0->tensorflow) (3.10)\n",
            "Requirement already satisfied: urllib3<3,>=1.21.1 in /usr/local/lib/python3.12/dist-packages (from requests<3,>=2.21.0->tensorflow) (2.5.0)\n",
            "Requirement already satisfied: certifi>=2017.4.17 in /usr/local/lib/python3.12/dist-packages (from requests<3,>=2.21.0->tensorflow) (2025.8.3)\n",
            "Requirement already satisfied: markdown>=2.6.8 in /usr/local/lib/python3.12/dist-packages (from tensorboard~=2.19.0->tensorflow) (3.8.2)\n",
            "Requirement already satisfied: tensorboard-data-server<0.8.0,>=0.7.0 in /usr/local/lib/python3.12/dist-packages (from tensorboard~=2.19.0->tensorflow) (0.7.2)\n",
            "Requirement already satisfied: werkzeug>=1.0.1 in /usr/local/lib/python3.12/dist-packages (from tensorboard~=2.19.0->tensorflow) (3.1.3)\n",
            "Requirement already satisfied: MarkupSafe>=2.1.1 in /usr/local/lib/python3.12/dist-packages (from werkzeug>=1.0.1->tensorboard~=2.19.0->tensorflow) (3.0.2)\n",
            "Requirement already satisfied: markdown-it-py>=2.2.0 in /usr/local/lib/python3.12/dist-packages (from rich->keras>=3.5.0->tensorflow) (4.0.0)\n",
            "Requirement already satisfied: pygments<3.0.0,>=2.13.0 in /usr/local/lib/python3.12/dist-packages (from rich->keras>=3.5.0->tensorflow) (2.19.2)\n",
            "Requirement already satisfied: mdurl~=0.1 in /usr/local/lib/python3.12/dist-packages (from markdown-it-py>=2.2.0->rich->keras>=3.5.0->tensorflow) (0.1.2)\n"
          ]
        }
      ],
      "source": [
        "import os\n",
        "!pip install tensorflow"
      ]
    },
    {
      "cell_type": "code",
      "execution_count": 9,
      "id": "8dc868a2-de14-499b-89cc-f10cfd3472bf",
      "metadata": {
        "colab": {
          "base_uri": "https://localhost:8080/"
        },
        "id": "8dc868a2-de14-499b-89cc-f10cfd3472bf",
        "outputId": "c33276e0-5e07-4417-93a2-24267b865aa0"
      },
      "outputs": [
        {
          "output_type": "stream",
          "name": "stdout",
          "text": [
            "2.19.0\n"
          ]
        }
      ],
      "source": [
        "import tensorflow as tf\n",
        "print(tf.__version__)"
      ]
    },
    {
      "cell_type": "code",
      "execution_count": 2,
      "id": "8e89b4f8-988a-4de7-bfcf-0a8ab14fe4ad",
      "metadata": {
        "id": "8e89b4f8-988a-4de7-bfcf-0a8ab14fe4ad"
      },
      "outputs": [],
      "source": [
        "import tensorflow as tf\n",
        "from tensorflow import keras\n",
        "\n",
        "# Model building blocks\n",
        "from tensorflow.keras.models import Sequential\n",
        "from tensorflow.keras.layers import Dense, Dropout, Flatten, GlobalAveragePooling2D\n",
        "from tensorflow.keras.optimizers import Adam\n",
        "from tensorflow.keras.callbacks import EarlyStopping, ReduceLROnPlateau, ModelCheckpoint\n",
        "from tensorflow.keras.utils import plot_model\n",
        "from IPython.display import Image, display\n",
        "# Data preprocessing and augmentation\n",
        "from tensorflow.keras.preprocessing.image import ImageDataGenerator\n",
        "\n",
        "# Pre-trained model (our foundation)\n",
        "from tensorflow.keras.applications import ResNet50\n",
        "\n",
        "# Evaluation and visualization\n",
        "from sklearn.metrics import (precision_recall_curve, roc_curve, accuracy_score,\n",
        "                           confusion_matrix, precision_score, recall_score,\n",
        "                           classification_report, roc_auc_score)\n",
        "import matplotlib.pyplot as plt\n",
        "import seaborn as sns\n",
        "import numpy as np"
      ]
    },
    {
      "cell_type": "code",
      "execution_count": 3,
      "id": "f44fed13-f452-47fd-8859-ce70ddbdb925",
      "metadata": {
        "id": "f44fed13-f452-47fd-8859-ce70ddbdb925"
      },
      "outputs": [],
      "source": [
        "tf.random.set_seed(42)\n",
        "np.random.seed(42)"
      ]
    },
    {
      "cell_type": "code",
      "metadata": {
        "colab": {
          "base_uri": "https://localhost:8080/"
        },
        "id": "0196baf4",
        "outputId": "bf26d2ef-639e-4141-d76d-f5d2842d9f92"
      },
      "source": [
        "# Update this path to the actual location of your 'chest_xray' folder in Google Drive\n",
        "base_dir = '/content/drive/My Drive/chest_xray'\n",
        "\n",
        "train_dir = f'{base_dir}/train'\n",
        "val_dir = f'{base_dir}/val'\n",
        "test_dir = f'{base_dir}/test'\n",
        "\n",
        "print(train_dir)\n",
        "import os\n",
        "print(os.path.exists(train_dir))\n",
        "\n",
        "print(os.listdir(train_dir))  # Should show ['NORMAL', 'PNEUMONIA']\n"
      ],
      "id": "0196baf4",
      "execution_count": 6,
      "outputs": [
        {
          "output_type": "stream",
          "name": "stdout",
          "text": [
            "/content/drive/My Drive/chest_xray/train\n",
            "True\n",
            "['NORMAL', 'PNEUMONIA']\n"
          ]
        }
      ]
    },
    {
      "cell_type": "code",
      "metadata": {
        "colab": {
          "base_uri": "https://localhost:8080/"
        },
        "id": "3ba9b6d3",
        "outputId": "f8c1c57d-244e-4001-994a-40ac5445e940"
      },
      "source": [
        "from google.colab import drive\n",
        "drive.mount('/content/drive')"
      ],
      "id": "3ba9b6d3",
      "execution_count": 5,
      "outputs": [
        {
          "output_type": "stream",
          "name": "stdout",
          "text": [
            "Mounted at /content/drive\n"
          ]
        }
      ]
    },
    {
      "cell_type": "code",
      "execution_count": 7,
      "id": "9c88ddfc-1959-4349-95ad-fb4c41110277",
      "metadata": {
        "colab": {
          "base_uri": "https://localhost:8080/"
        },
        "id": "9c88ddfc-1959-4349-95ad-fb4c41110277",
        "outputId": "5c2440ea-7eb3-4bb3-ea12-e7465a950e29"
      },
      "outputs": [
        {
          "output_type": "stream",
          "name": "stdout",
          "text": [
            "Downloading data from https://storage.googleapis.com/tensorflow/keras-applications/resnet/resnet50_weights_tf_dim_ordering_tf_kernels_notop.h5\n",
            "\u001b[1m94765736/94765736\u001b[0m \u001b[32m━━━━━━━━━━━━━━━━━━━━\u001b[0m\u001b[37m\u001b[0m \u001b[1m3s\u001b[0m 0us/step\n",
            "📊 ResNet-50 has 23,587,712 parameters\n"
          ]
        }
      ],
      "source": [
        "base_model = ResNet50(\n",
        "    weights='imagenet',        # Use weights trained on ImageNet (1.4M images)\n",
        "    include_top=False,         # Remove the final classification layer\n",
        "    input_shape=(224, 224, 3)  # Our input: 224x224 RGB images\n",
        ")\n",
        "\n",
        "print(f\"📊 ResNet-50 has {base_model.count_params():,} parameters\")"
      ]
    },
    {
      "cell_type": "code",
      "execution_count": 8,
      "id": "2211e1dc-8bd8-4a8d-8bec-cd757884b672",
      "metadata": {
        "colab": {
          "base_uri": "https://localhost:8080/"
        },
        "id": "2211e1dc-8bd8-4a8d-8bec-cd757884b672",
        "outputId": "0d372e64-0b51-4235-8205-e69d45e0a926"
      },
      "outputs": [
        {
          "output_type": "stream",
          "name": "stdout",
          "text": [
            "📊 Trainable layers: 0/175\n"
          ]
        }
      ],
      "source": [
        "# Freeze all layers in the base model\n",
        "base_model.trainable = False\n",
        "trainable_count = sum([1 for layer in base_model.layers if layer.trainable])\n",
        "total_count = len(base_model.layers)\n",
        "print(f\"📊 Trainable layers: {trainable_count}/{total_count}\")"
      ]
    },
    {
      "cell_type": "code",
      "execution_count": 9,
      "id": "b826ba1d-c187-468d-b42d-abb09d34f510",
      "metadata": {
        "id": "b826ba1d-c187-468d-b42d-abb09d34f510"
      },
      "outputs": [],
      "source": [
        "model = Sequential([\n",
        "    # 1. Feature Extraction (ResNet-50)\n",
        "    base_model,\n",
        "\n",
        "    # 2. Global Average Pooling\n",
        "    GlobalAveragePooling2D(),\n",
        "\n",
        "    # 3. Dense Layer for Learning\n",
        "    Dense(256, activation='relu'),\n",
        "\n",
        "    # 4. Dropout for Regularization\n",
        "    Dropout(0.5),\n",
        "\n",
        "    # 5. Output Layer\n",
        "    Dense(1, activation='sigmoid')  # Binary classification: 0 or 1\n",
        "])"
      ]
    },
    {
      "cell_type": "code",
      "execution_count": 10,
      "id": "166d51de-f93c-489c-bee2-a0bc9086e6b1",
      "metadata": {
        "colab": {
          "base_uri": "https://localhost:8080/",
          "height": 305
        },
        "id": "166d51de-f93c-489c-bee2-a0bc9086e6b1",
        "outputId": "13338d6c-b385-4056-cbe4-4d11717d17f6"
      },
      "outputs": [
        {
          "output_type": "display_data",
          "data": {
            "text/plain": [
              "\u001b[1mModel: \"sequential\"\u001b[0m\n"
            ],
            "text/html": [
              "<pre style=\"white-space:pre;overflow-x:auto;line-height:normal;font-family:Menlo,'DejaVu Sans Mono',consolas,'Courier New',monospace\"><span style=\"font-weight: bold\">Model: \"sequential\"</span>\n",
              "</pre>\n"
            ]
          },
          "metadata": {}
        },
        {
          "output_type": "display_data",
          "data": {
            "text/plain": [
              "┏━━━━━━━━━━━━━━━━━━━━━━━━━━━━━━━━━┳━━━━━━━━━━━━━━━━━━━━━━━━┳━━━━━━━━━━━━━━━┓\n",
              "┃\u001b[1m \u001b[0m\u001b[1mLayer (type)                   \u001b[0m\u001b[1m \u001b[0m┃\u001b[1m \u001b[0m\u001b[1mOutput Shape          \u001b[0m\u001b[1m \u001b[0m┃\u001b[1m \u001b[0m\u001b[1m      Param #\u001b[0m\u001b[1m \u001b[0m┃\n",
              "┡━━━━━━━━━━━━━━━━━━━━━━━━━━━━━━━━━╇━━━━━━━━━━━━━━━━━━━━━━━━╇━━━━━━━━━━━━━━━┩\n",
              "│ resnet50 (\u001b[38;5;33mFunctional\u001b[0m)           │ (\u001b[38;5;45mNone\u001b[0m, \u001b[38;5;34m7\u001b[0m, \u001b[38;5;34m7\u001b[0m, \u001b[38;5;34m2048\u001b[0m)     │    \u001b[38;5;34m23,587,712\u001b[0m │\n",
              "├─────────────────────────────────┼────────────────────────┼───────────────┤\n",
              "│ global_average_pooling2d        │ (\u001b[38;5;45mNone\u001b[0m, \u001b[38;5;34m2048\u001b[0m)           │             \u001b[38;5;34m0\u001b[0m │\n",
              "│ (\u001b[38;5;33mGlobalAveragePooling2D\u001b[0m)        │                        │               │\n",
              "├─────────────────────────────────┼────────────────────────┼───────────────┤\n",
              "│ dense (\u001b[38;5;33mDense\u001b[0m)                   │ (\u001b[38;5;45mNone\u001b[0m, \u001b[38;5;34m256\u001b[0m)            │       \u001b[38;5;34m524,544\u001b[0m │\n",
              "├─────────────────────────────────┼────────────────────────┼───────────────┤\n",
              "│ dropout (\u001b[38;5;33mDropout\u001b[0m)               │ (\u001b[38;5;45mNone\u001b[0m, \u001b[38;5;34m256\u001b[0m)            │             \u001b[38;5;34m0\u001b[0m │\n",
              "├─────────────────────────────────┼────────────────────────┼───────────────┤\n",
              "│ dense_1 (\u001b[38;5;33mDense\u001b[0m)                 │ (\u001b[38;5;45mNone\u001b[0m, \u001b[38;5;34m1\u001b[0m)              │           \u001b[38;5;34m257\u001b[0m │\n",
              "└─────────────────────────────────┴────────────────────────┴───────────────┘\n"
            ],
            "text/html": [
              "<pre style=\"white-space:pre;overflow-x:auto;line-height:normal;font-family:Menlo,'DejaVu Sans Mono',consolas,'Courier New',monospace\">┏━━━━━━━━━━━━━━━━━━━━━━━━━━━━━━━━━┳━━━━━━━━━━━━━━━━━━━━━━━━┳━━━━━━━━━━━━━━━┓\n",
              "┃<span style=\"font-weight: bold\"> Layer (type)                    </span>┃<span style=\"font-weight: bold\"> Output Shape           </span>┃<span style=\"font-weight: bold\">       Param # </span>┃\n",
              "┡━━━━━━━━━━━━━━━━━━━━━━━━━━━━━━━━━╇━━━━━━━━━━━━━━━━━━━━━━━━╇━━━━━━━━━━━━━━━┩\n",
              "│ resnet50 (<span style=\"color: #0087ff; text-decoration-color: #0087ff\">Functional</span>)           │ (<span style=\"color: #00d7ff; text-decoration-color: #00d7ff\">None</span>, <span style=\"color: #00af00; text-decoration-color: #00af00\">7</span>, <span style=\"color: #00af00; text-decoration-color: #00af00\">7</span>, <span style=\"color: #00af00; text-decoration-color: #00af00\">2048</span>)     │    <span style=\"color: #00af00; text-decoration-color: #00af00\">23,587,712</span> │\n",
              "├─────────────────────────────────┼────────────────────────┼───────────────┤\n",
              "│ global_average_pooling2d        │ (<span style=\"color: #00d7ff; text-decoration-color: #00d7ff\">None</span>, <span style=\"color: #00af00; text-decoration-color: #00af00\">2048</span>)           │             <span style=\"color: #00af00; text-decoration-color: #00af00\">0</span> │\n",
              "│ (<span style=\"color: #0087ff; text-decoration-color: #0087ff\">GlobalAveragePooling2D</span>)        │                        │               │\n",
              "├─────────────────────────────────┼────────────────────────┼───────────────┤\n",
              "│ dense (<span style=\"color: #0087ff; text-decoration-color: #0087ff\">Dense</span>)                   │ (<span style=\"color: #00d7ff; text-decoration-color: #00d7ff\">None</span>, <span style=\"color: #00af00; text-decoration-color: #00af00\">256</span>)            │       <span style=\"color: #00af00; text-decoration-color: #00af00\">524,544</span> │\n",
              "├─────────────────────────────────┼────────────────────────┼───────────────┤\n",
              "│ dropout (<span style=\"color: #0087ff; text-decoration-color: #0087ff\">Dropout</span>)               │ (<span style=\"color: #00d7ff; text-decoration-color: #00d7ff\">None</span>, <span style=\"color: #00af00; text-decoration-color: #00af00\">256</span>)            │             <span style=\"color: #00af00; text-decoration-color: #00af00\">0</span> │\n",
              "├─────────────────────────────────┼────────────────────────┼───────────────┤\n",
              "│ dense_1 (<span style=\"color: #0087ff; text-decoration-color: #0087ff\">Dense</span>)                 │ (<span style=\"color: #00d7ff; text-decoration-color: #00d7ff\">None</span>, <span style=\"color: #00af00; text-decoration-color: #00af00\">1</span>)              │           <span style=\"color: #00af00; text-decoration-color: #00af00\">257</span> │\n",
              "└─────────────────────────────────┴────────────────────────┴───────────────┘\n",
              "</pre>\n"
            ]
          },
          "metadata": {}
        },
        {
          "output_type": "display_data",
          "data": {
            "text/plain": [
              "\u001b[1m Total params: \u001b[0m\u001b[38;5;34m24,112,513\u001b[0m (91.98 MB)\n"
            ],
            "text/html": [
              "<pre style=\"white-space:pre;overflow-x:auto;line-height:normal;font-family:Menlo,'DejaVu Sans Mono',consolas,'Courier New',monospace\"><span style=\"font-weight: bold\"> Total params: </span><span style=\"color: #00af00; text-decoration-color: #00af00\">24,112,513</span> (91.98 MB)\n",
              "</pre>\n"
            ]
          },
          "metadata": {}
        },
        {
          "output_type": "display_data",
          "data": {
            "text/plain": [
              "\u001b[1m Trainable params: \u001b[0m\u001b[38;5;34m524,801\u001b[0m (2.00 MB)\n"
            ],
            "text/html": [
              "<pre style=\"white-space:pre;overflow-x:auto;line-height:normal;font-family:Menlo,'DejaVu Sans Mono',consolas,'Courier New',monospace\"><span style=\"font-weight: bold\"> Trainable params: </span><span style=\"color: #00af00; text-decoration-color: #00af00\">524,801</span> (2.00 MB)\n",
              "</pre>\n"
            ]
          },
          "metadata": {}
        },
        {
          "output_type": "display_data",
          "data": {
            "text/plain": [
              "\u001b[1m Non-trainable params: \u001b[0m\u001b[38;5;34m23,587,712\u001b[0m (89.98 MB)\n"
            ],
            "text/html": [
              "<pre style=\"white-space:pre;overflow-x:auto;line-height:normal;font-family:Menlo,'DejaVu Sans Mono',consolas,'Courier New',monospace\"><span style=\"font-weight: bold\"> Non-trainable params: </span><span style=\"color: #00af00; text-decoration-color: #00af00\">23,587,712</span> (89.98 MB)\n",
              "</pre>\n"
            ]
          },
          "metadata": {}
        }
      ],
      "source": [
        "model.summary()\n",
        "\n",
        "total_params = np.sum([tf.keras.backend.count_params(w) for w in model.weights])\n",
        "\n",
        "# trainable parameters\n",
        "trainable_params = np.sum([tf.keras.backend.count_params(w) for w in model.trainable_weights])\n",
        "\n",
        "# non-trainable parameters\n",
        "non_trainable_params = np.sum([tf.keras.backend.count_params(w) for w in model.non_trainable_weights])\n",
        "\n"
      ]
    },
    {
      "cell_type": "code",
      "execution_count": 11,
      "id": "658ac32f-2194-4a16-9b62-de0e456ce12b",
      "metadata": {
        "colab": {
          "base_uri": "https://localhost:8080/"
        },
        "id": "658ac32f-2194-4a16-9b62-de0e456ce12b",
        "outputId": "9c250aaf-cb25-4508-9e15-8d556dfe8f98"
      },
      "outputs": [
        {
          "output_type": "stream",
          "name": "stdout",
          "text": [
            "Good! Small number of trainable parameters\n",
            "   • Faster training\n",
            "   • Less likely to overfit\n"
          ]
        }
      ],
      "source": [
        "if trainable_params < 1000000:\n",
        "    print(\"Good! Small number of trainable parameters\")\n",
        "    print(\"   • Faster training\")\n",
        "    print(\"   • Less likely to overfit\")\n",
        "else:\n",
        "    print(\"Large number of trainable parameters\")\n",
        "    print(\"   • Might need more data or regularization\")"
      ]
    },
    {
      "cell_type": "code",
      "execution_count": 12,
      "id": "44ee0ae7-1cf8-4aad-bfef-a968c0e9fc70",
      "metadata": {
        "id": "44ee0ae7-1cf8-4aad-bfef-a968c0e9fc70"
      },
      "outputs": [],
      "source": [
        "model.compile(\n",
        "    optimizer=Adam(learning_rate=0.001),  # Adam optimizer with learning rate\n",
        "    loss='binary_crossentropy',           # Loss function for binary classification\n",
        "    metrics=['accuracy']                  # Track accuracy during training\n",
        ")\n"
      ]
    },
    {
      "cell_type": "code",
      "execution_count": 13,
      "id": "cee44db7-0404-4e9b-bba9-51b664d31707",
      "metadata": {
        "colab": {
          "base_uri": "https://localhost:8080/"
        },
        "id": "cee44db7-0404-4e9b-bba9-51b664d31707",
        "outputId": "bfebee5b-2187-4d32-a1bd-8fd330e714e6"
      },
      "outputs": [
        {
          "output_type": "stream",
          "name": "stdout",
          "text": [
            "Found 5247 images belonging to 2 classes.\n",
            "Found 16 images belonging to 2 classes.\n",
            "Number of batches in train generator: 164\n",
            "Batch size: 32\n",
            "Total training images: 5247\n"
          ]
        }
      ],
      "source": [
        "from tensorflow.keras.preprocessing.image import ImageDataGenerator\n",
        "\n",
        "# ===============================\n",
        "# 1️⃣ Create ImageDataGenerators\n",
        "# ===============================\n",
        "\n",
        "# Training data augmentation\n",
        "train_datagen = ImageDataGenerator(\n",
        "    rescale=1./255,\n",
        "    rotation_range=20,\n",
        "    width_shift_range=0.2,\n",
        "    height_shift_range=0.2,\n",
        "    shear_range=0.2,\n",
        "    zoom_range=0.2,\n",
        "    horizontal_flip=True,\n",
        "    fill_mode='nearest'\n",
        ")\n",
        "\n",
        "# Validation data: only rescale\n",
        "val_datagen = ImageDataGenerator(rescale=1./255)\n",
        "\n",
        "# ===============================\n",
        "# 2️⃣ Create generators\n",
        "# ===============================\n",
        "train_generator = train_datagen.flow_from_directory(\n",
        "    train_dir,\n",
        "    target_size=(224, 224),\n",
        "    batch_size=32,\n",
        "    class_mode='binary',\n",
        "    classes=['NORMAL', 'PNEUMONIA'],\n",
        "    shuffle=True,\n",
        "    seed=42\n",
        ")\n",
        "\n",
        "val_generator = val_datagen.flow_from_directory(\n",
        "    val_dir,\n",
        "    target_size=(224, 224),\n",
        "    batch_size=16,\n",
        "    class_mode='binary',\n",
        "    classes=['NORMAL', 'PNEUMONIA'],\n",
        "    shuffle=False\n",
        ")\n",
        "\n",
        "# ===============================\n",
        "# 3️⃣ Print generator stats\n",
        "# ===============================\n",
        "print(\"Number of batches in train generator:\", len(train_generator))\n",
        "print(\"Batch size:\", train_generator.batch_size)\n",
        "print(\"Total training images:\", train_generator.samples)\n"
      ]
    },
    {
      "cell_type": "code",
      "source": [
        "test_datagen = ImageDataGenerator(rescale=1.0/255)\n",
        "\n",
        "test_generator = test_datagen.flow_from_directory(\n",
        "    test_dir,\n",
        "    target_size=(224, 224),\n",
        "    batch_size=32,\n",
        "    class_mode='binary',\n",
        "    shuffle=False\n",
        ")\n"
      ],
      "metadata": {
        "colab": {
          "base_uri": "https://localhost:8080/"
        },
        "id": "V1PVJ9MQAszj",
        "outputId": "b92d86c2-de17-4531-8944-e549fcc48948"
      },
      "id": "V1PVJ9MQAszj",
      "execution_count": 30,
      "outputs": [
        {
          "output_type": "stream",
          "name": "stdout",
          "text": [
            "Found 624 images belonging to 2 classes.\n"
          ]
        }
      ]
    },
    {
      "cell_type": "code",
      "execution_count": 14,
      "id": "bef6f363-3ef1-4e03-8164-c04b2d2f533c",
      "metadata": {
        "colab": {
          "base_uri": "https://localhost:8080/"
        },
        "id": "bef6f363-3ef1-4e03-8164-c04b2d2f533c",
        "outputId": "d3bc877d-1f4d-4b8c-8ad0-7cb19ae57dc2"
      },
      "outputs": [
        {
          "output_type": "stream",
          "name": "stdout",
          "text": [
            "NORMAL images: 1341\n",
            "PNEUMONIA images: 3906\n",
            "Total training samples: 5247\n",
            "Class weights: {0: 1.9563758389261745, 1: 0.6716589861751152}\n"
          ]
        }
      ],
      "source": [
        "import os\n",
        "\n",
        "normal_count = len(os.listdir(f'{train_dir}/NORMAL'))\n",
        "pneumonia_count = len(os.listdir(f'{train_dir}/PNEUMONIA'))\n",
        "total_samples = normal_count + pneumonia_count\n",
        "\n",
        "class_weight = {\n",
        "    0: total_samples / (2.0 * normal_count),      # Weight for NORMAL\n",
        "    1: total_samples / (2.0 * pneumonia_count)    # Weight for PNEUMONIA\n",
        "}\n",
        "\n",
        "print(\"NORMAL images:\", normal_count)\n",
        "print(\"PNEUMONIA images:\", pneumonia_count)\n",
        "print(\"Total training samples:\", total_samples)\n",
        "print(\"Class weights:\", class_weight)\n"
      ]
    },
    {
      "cell_type": "code",
      "execution_count": 15,
      "id": "31041f20-c13b-4628-8b3c-4ccbff3ba3fe",
      "metadata": {
        "colab": {
          "base_uri": "https://localhost:8080/"
        },
        "id": "31041f20-c13b-4628-8b3c-4ccbff3ba3fe",
        "outputId": "974a21ed-791f-4400-e383-79c19f75cafb"
      },
      "outputs": [
        {
          "output_type": "stream",
          "name": "stdout",
          "text": [
            "   Normal:    1,341 images (25.6%)\n",
            "   Pneumonia: 3,906 images (74.4%)\n",
            "   Total:     5,247 images\n",
            "\n",
            "⚖️ CALCULATED CLASS WEIGHTS:\n",
            "   Normal (0):    1.956\n",
            "   Pneumonia (1): 0.672\n",
            "⚠️  HIGH IMBALANCE DETECTED: 2.9:1 ratio\n",
            "✅ Class weights will help balance this!\n"
          ]
        }
      ],
      "source": [
        "print(f\"   Normal:    {normal_count:,} images ({normal_count/total_samples*100:.1f}%)\")\n",
        "print(f\"   Pneumonia: {pneumonia_count:,} images ({pneumonia_count/total_samples*100:.1f}%)\")\n",
        "print(f\"   Total:     {total_samples:,} images\")\n",
        "\n",
        "print(f\"\\n⚖️ CALCULATED CLASS WEIGHTS:\")\n",
        "print(f\"   Normal (0):    {class_weight[0]:.3f}\")\n",
        "print(f\"   Pneumonia (1): {class_weight[1]:.3f}\")\n",
        "imbalance_ratio = pneumonia_count / normal_count\n",
        "if imbalance_ratio > 2:\n",
        "    print(f\"⚠️  HIGH IMBALANCE DETECTED: {imbalance_ratio:.1f}:1 ratio\")\n",
        "    print(\"✅ Class weights will help balance this!\")\n",
        "else:\n",
        "    print(\"✅ Moderate imbalance - class weights should handle this well\")"
      ]
    },
    {
      "cell_type": "code",
      "execution_count": 16,
      "id": "b0c68ee1-2c0e-4c49-951f-06e2cf7dab2e",
      "metadata": {
        "id": "b0c68ee1-2c0e-4c49-951f-06e2cf7dab2e"
      },
      "outputs": [],
      "source": [
        "early_stopping = EarlyStopping(\n",
        "    monitor='val_loss',          # Watch validation loss\n",
        "    patience=5,                  # Wait 5 epochs for improvement\n",
        "    restore_best_weights=True,   # Keep the best weights, not the last\n",
        "    verbose=1,                   # Print when it stops\n",
        "    mode='min'                   # Lower validation loss is better\n",
        ")\n",
        "reduce_lr = ReduceLROnPlateau(\n",
        "    monitor='val_loss',          # Watch validation loss\n",
        "    factor=0.2,                  # Reduce LR by factor of 5 (multiply by 0.2)\n",
        "    patience=3,                  # Wait 3 epochs before reducing\n",
        "    min_lr=1e-7,                 # Don't go below this learning rate\n",
        "    verbose=1,                   # Print when LR changes\n",
        "    mode='min'                   # Lower loss is better\n",
        ")\n",
        "checkpoint = ModelCheckpoint(\n",
        "    filepath='best_pneumonia_model.keras',\n",
        "    monitor='val_accuracy',      # Save when validation accuracy improves\n",
        "    save_best_only=True,         # Only save when performance improves\n",
        "    verbose=1,                   # Print when saving\n",
        "    mode='max'                   # Higher accuracy is better\n",
        ")\n"
      ]
    },
    {
      "cell_type": "code",
      "execution_count": 17,
      "id": "5040afe8-e271-4f3f-b42b-780e4f679245",
      "metadata": {
        "id": "5040afe8-e271-4f3f-b42b-780e4f679245"
      },
      "outputs": [],
      "source": [
        "callbacks = [early_stopping, reduce_lr, checkpoint]\n"
      ]
    },
    {
      "cell_type": "code",
      "execution_count": 18,
      "id": "276937da-96cd-4312-8b56-789a22efe7c1",
      "metadata": {
        "colab": {
          "base_uri": "https://localhost:8080/"
        },
        "id": "276937da-96cd-4312-8b56-789a22efe7c1",
        "outputId": "426b3234-4886-4a15-a8dc-dd52dfc3c1e8"
      },
      "outputs": [
        {
          "output_type": "stream",
          "name": "stdout",
          "text": [
            "\n",
            "⏱️ ESTIMATED TRAINING TIME:\n",
            "🔹 Steps per epoch: 164\n",
            "🔹 Estimated time: 123-246 minutes\n",
            "🔹 Note: Actual time depends on your hardware (GPU vs CPU)\n"
          ]
        }
      ],
      "source": [
        "EPOCHS = 15  # Start with 15 epochs\n",
        "VERBOSE = 1  # Show progress bar\n",
        "steps_per_epoch = len(train_generator)\n",
        "estimated_minutes = (steps_per_epoch * EPOCHS * 3) / 60\n",
        "print(f\"\\n⏱️ ESTIMATED TRAINING TIME:\")\n",
        "print(f\"🔹 Steps per epoch: {steps_per_epoch}\")\n",
        "print(f\"🔹 Estimated time: {estimated_minutes:.0f}-{estimated_minutes*2:.0f} minutes\")\n",
        "print(f\"🔹 Note: Actual time depends on your hardware (GPU vs CPU)\")"
      ]
    },
    {
      "cell_type": "code",
      "execution_count": 19,
      "id": "a5d643e0-2bd9-4c97-9747-29b928fa68be",
      "metadata": {
        "colab": {
          "base_uri": "https://localhost:8080/"
        },
        "id": "a5d643e0-2bd9-4c97-9747-29b928fa68be",
        "outputId": "2a9ba77d-ce83-449e-8a09-62905db18080"
      },
      "outputs": [
        {
          "output_type": "stream",
          "name": "stdout",
          "text": [
            "TensorFlow version: 2.19.0\n",
            "GPU Available: [PhysicalDevice(name='/physical_device:GPU:0', device_type='GPU')]\n"
          ]
        }
      ],
      "source": [
        "print(\"TensorFlow version:\", tf.__version__)\n",
        "print(\"GPU Available:\", tf.config.list_physical_devices('GPU'))"
      ]
    },
    {
      "cell_type": "code",
      "execution_count": 22,
      "id": "d2de89a7-88ef-4b0e-957a-1eea8b4c59b0",
      "metadata": {
        "colab": {
          "base_uri": "https://localhost:8080/"
        },
        "id": "d2de89a7-88ef-4b0e-957a-1eea8b4c59b0",
        "outputId": "446fc63e-7486-49f0-c444-4ced54238f26"
      },
      "outputs": [
        {
          "output_type": "stream",
          "name": "stdout",
          "text": [
            "✅ Training generator working - batch shape: (32, 224, 224, 3)\n",
            "✅ Validation generator working - batch shape: (16, 224, 224, 3)\n",
            "🧠 Model Status:\n",
            "✅ Model compiled successfully\n"
          ]
        }
      ],
      "source": [
        "\n",
        "\n",
        "try:\n",
        "    batch_x, batch_y = next(train_generator)\n",
        "    print(f\"✅ Training generator working - batch shape: {batch_x.shape}\")\n",
        "    train_generator.reset()  # Reset generator\n",
        "except:\n",
        "    print(\"❌ Training generator issue!\")\n",
        "\n",
        "try:\n",
        "    batch_x, batch_y = next(val_generator)\n",
        "    print(f\"✅ Validation generator working - batch shape: {batch_x.shape}\")\n",
        "    val_generator.reset()  # Reset generator\n",
        "except:\n",
        "    print(\"❌ Validation generator issue!\")\n",
        "\n",
        "if model.optimizer:\n",
        "    print(\"✅ Model compiled successfully\")\n",
        "else:\n",
        "    print(\"❌ Model not compiled!\")\n",
        "\n",
        "\n",
        "\n"
      ]
    },
    {
      "cell_type": "code",
      "source": [
        "istory = model.fit(\n",
        "    train_generator,\n",
        "    epochs=15,\n",
        "    validation_data=val_generator,\n",
        "    callbacks=[early_stopping, reduce_lr, checkpoint],\n",
        "    class_weight=class_weight,\n",
        "    verbose=1\n",
        ")"
      ],
      "metadata": {
        "colab": {
          "base_uri": "https://localhost:8080/"
        },
        "id": "JFfYoDEukRVe",
        "outputId": "fe89c401-3995-4653-b201-b6d56d15986c"
      },
      "id": "JFfYoDEukRVe",
      "execution_count": 23,
      "outputs": [
        {
          "metadata": {
            "tags": null
          },
          "name": "stderr",
          "output_type": "stream",
          "text": [
            "/usr/local/lib/python3.12/dist-packages/keras/src/trainers/data_adapters/py_dataset_adapter.py:121: UserWarning: Your `PyDataset` class should call `super().__init__(**kwargs)` in its constructor. `**kwargs` can include `workers`, `use_multiprocessing`, `max_queue_size`. Do not pass these arguments to `fit()`, as they will be ignored.\n",
            "  self._warn_if_super_not_called()\n"
          ]
        },
        {
          "output_type": "stream",
          "name": "stdout",
          "text": [
            "Epoch 1/15\n",
            "\u001b[1m164/164\u001b[0m \u001b[32m━━━━━━━━━━━━━━━━━━━━\u001b[0m\u001b[37m\u001b[0m \u001b[1m0s\u001b[0m 16s/step - accuracy: 0.5479 - loss: 0.7153 \n",
            "Epoch 1: val_accuracy improved from -inf to 0.56250, saving model to best_pneumonia_model.keras\n",
            "\u001b[1m164/164\u001b[0m \u001b[32m━━━━━━━━━━━━━━━━━━━━\u001b[0m\u001b[37m\u001b[0m \u001b[1m2638s\u001b[0m 16s/step - accuracy: 0.5481 - loss: 0.7152 - val_accuracy: 0.5625 - val_loss: 0.6605 - learning_rate: 0.0010\n",
            "Epoch 2/15\n",
            "\u001b[1m164/164\u001b[0m \u001b[32m━━━━━━━━━━━━━━━━━━━━\u001b[0m\u001b[37m\u001b[0m \u001b[1m0s\u001b[0m 726ms/step - accuracy: 0.6596 - loss: 0.6389\n",
            "Epoch 2: val_accuracy improved from 0.56250 to 0.75000, saving model to best_pneumonia_model.keras\n",
            "\u001b[1m164/164\u001b[0m \u001b[32m━━━━━━━━━━━━━━━━━━━━\u001b[0m\u001b[37m\u001b[0m \u001b[1m151s\u001b[0m 734ms/step - accuracy: 0.6596 - loss: 0.6389 - val_accuracy: 0.7500 - val_loss: 0.6129 - learning_rate: 0.0010\n",
            "Epoch 3/15\n",
            "\u001b[1m164/164\u001b[0m \u001b[32m━━━━━━━━━━━━━━━━━━━━\u001b[0m\u001b[37m\u001b[0m \u001b[1m0s\u001b[0m 716ms/step - accuracy: 0.7154 - loss: 0.5838\n",
            "Epoch 3: val_accuracy did not improve from 0.75000\n",
            "\u001b[1m164/164\u001b[0m \u001b[32m━━━━━━━━━━━━━━━━━━━━\u001b[0m\u001b[37m\u001b[0m \u001b[1m118s\u001b[0m 717ms/step - accuracy: 0.7154 - loss: 0.5838 - val_accuracy: 0.5625 - val_loss: 0.6257 - learning_rate: 0.0010\n",
            "Epoch 4/15\n",
            "\u001b[1m164/164\u001b[0m \u001b[32m━━━━━━━━━━━━━━━━━━━━\u001b[0m\u001b[37m\u001b[0m \u001b[1m0s\u001b[0m 723ms/step - accuracy: 0.7270 - loss: 0.5695\n",
            "Epoch 4: val_accuracy did not improve from 0.75000\n",
            "\u001b[1m164/164\u001b[0m \u001b[32m━━━━━━━━━━━━━━━━━━━━\u001b[0m\u001b[37m\u001b[0m \u001b[1m119s\u001b[0m 725ms/step - accuracy: 0.7270 - loss: 0.5695 - val_accuracy: 0.6250 - val_loss: 0.5876 - learning_rate: 0.0010\n",
            "Epoch 5/15\n",
            "\u001b[1m164/164\u001b[0m \u001b[32m━━━━━━━━━━━━━━━━━━━━\u001b[0m\u001b[37m\u001b[0m \u001b[1m0s\u001b[0m 716ms/step - accuracy: 0.7502 - loss: 0.5332\n",
            "Epoch 5: val_accuracy did not improve from 0.75000\n",
            "\u001b[1m164/164\u001b[0m \u001b[32m━━━━━━━━━━━━━━━━━━━━\u001b[0m\u001b[37m\u001b[0m \u001b[1m118s\u001b[0m 718ms/step - accuracy: 0.7503 - loss: 0.5332 - val_accuracy: 0.6250 - val_loss: 0.6095 - learning_rate: 0.0010\n",
            "Epoch 6/15\n",
            "\u001b[1m164/164\u001b[0m \u001b[32m━━━━━━━━━━━━━━━━━━━━\u001b[0m\u001b[37m\u001b[0m \u001b[1m0s\u001b[0m 715ms/step - accuracy: 0.7710 - loss: 0.5036\n",
            "Epoch 6: val_accuracy did not improve from 0.75000\n",
            "\u001b[1m164/164\u001b[0m \u001b[32m━━━━━━━━━━━━━━━━━━━━\u001b[0m\u001b[37m\u001b[0m \u001b[1m118s\u001b[0m 717ms/step - accuracy: 0.7709 - loss: 0.5037 - val_accuracy: 0.6250 - val_loss: 0.6420 - learning_rate: 0.0010\n",
            "Epoch 7/15\n",
            "\u001b[1m164/164\u001b[0m \u001b[32m━━━━━━━━━━━━━━━━━━━━\u001b[0m\u001b[37m\u001b[0m \u001b[1m0s\u001b[0m 723ms/step - accuracy: 0.7568 - loss: 0.5123\n",
            "Epoch 7: val_accuracy did not improve from 0.75000\n",
            "\u001b[1m164/164\u001b[0m \u001b[32m━━━━━━━━━━━━━━━━━━━━\u001b[0m\u001b[37m\u001b[0m \u001b[1m119s\u001b[0m 725ms/step - accuracy: 0.7569 - loss: 0.5122 - val_accuracy: 0.6250 - val_loss: 0.5797 - learning_rate: 0.0010\n",
            "Epoch 8/15\n",
            "\u001b[1m164/164\u001b[0m \u001b[32m━━━━━━━━━━━━━━━━━━━━\u001b[0m\u001b[37m\u001b[0m \u001b[1m0s\u001b[0m 715ms/step - accuracy: 0.7658 - loss: 0.4993\n",
            "Epoch 8: val_accuracy did not improve from 0.75000\n",
            "\u001b[1m164/164\u001b[0m \u001b[32m━━━━━━━━━━━━━━━━━━━━\u001b[0m\u001b[37m\u001b[0m \u001b[1m118s\u001b[0m 718ms/step - accuracy: 0.7658 - loss: 0.4993 - val_accuracy: 0.6875 - val_loss: 0.5567 - learning_rate: 0.0010\n",
            "Epoch 9/15\n",
            "\u001b[1m164/164\u001b[0m \u001b[32m━━━━━━━━━━━━━━━━━━━━\u001b[0m\u001b[37m\u001b[0m \u001b[1m0s\u001b[0m 747ms/step - accuracy: 0.7639 - loss: 0.4799\n",
            "Epoch 9: val_accuracy did not improve from 0.75000\n",
            "\u001b[1m164/164\u001b[0m \u001b[32m━━━━━━━━━━━━━━━━━━━━\u001b[0m\u001b[37m\u001b[0m \u001b[1m123s\u001b[0m 749ms/step - accuracy: 0.7639 - loss: 0.4799 - val_accuracy: 0.6875 - val_loss: 0.5574 - learning_rate: 0.0010\n",
            "Epoch 10/15\n",
            "\u001b[1m164/164\u001b[0m \u001b[32m━━━━━━━━━━━━━━━━━━━━\u001b[0m\u001b[37m\u001b[0m \u001b[1m0s\u001b[0m 735ms/step - accuracy: 0.7683 - loss: 0.4848\n",
            "Epoch 10: val_accuracy did not improve from 0.75000\n",
            "\u001b[1m164/164\u001b[0m \u001b[32m━━━━━━━━━━━━━━━━━━━━\u001b[0m\u001b[37m\u001b[0m \u001b[1m140s\u001b[0m 736ms/step - accuracy: 0.7683 - loss: 0.4849 - val_accuracy: 0.6250 - val_loss: 0.6123 - learning_rate: 0.0010\n",
            "Epoch 11/15\n",
            "\u001b[1m164/164\u001b[0m \u001b[32m━━━━━━━━━━━━━━━━━━━━\u001b[0m\u001b[37m\u001b[0m \u001b[1m0s\u001b[0m 742ms/step - accuracy: 0.7729 - loss: 0.4747\n",
            "Epoch 11: val_accuracy did not improve from 0.75000\n",
            "\u001b[1m164/164\u001b[0m \u001b[32m━━━━━━━━━━━━━━━━━━━━\u001b[0m\u001b[37m\u001b[0m \u001b[1m122s\u001b[0m 747ms/step - accuracy: 0.7728 - loss: 0.4747 - val_accuracy: 0.7500 - val_loss: 0.5244 - learning_rate: 0.0010\n",
            "Epoch 12/15\n",
            "\u001b[1m164/164\u001b[0m \u001b[32m━━━━━━━━━━━━━━━━━━━━\u001b[0m\u001b[37m\u001b[0m \u001b[1m0s\u001b[0m 752ms/step - accuracy: 0.7779 - loss: 0.4852\n",
            "Epoch 12: val_accuracy did not improve from 0.75000\n",
            "\u001b[1m164/164\u001b[0m \u001b[32m━━━━━━━━━━━━━━━━━━━━\u001b[0m\u001b[37m\u001b[0m \u001b[1m143s\u001b[0m 756ms/step - accuracy: 0.7779 - loss: 0.4851 - val_accuracy: 0.6250 - val_loss: 0.6744 - learning_rate: 0.0010\n",
            "Epoch 13/15\n",
            "\u001b[1m164/164\u001b[0m \u001b[32m━━━━━━━━━━━━━━━━━━━━\u001b[0m\u001b[37m\u001b[0m \u001b[1m0s\u001b[0m 745ms/step - accuracy: 0.7740 - loss: 0.4780\n",
            "Epoch 13: val_accuracy did not improve from 0.75000\n",
            "\u001b[1m164/164\u001b[0m \u001b[32m━━━━━━━━━━━━━━━━━━━━\u001b[0m\u001b[37m\u001b[0m \u001b[1m140s\u001b[0m 747ms/step - accuracy: 0.7740 - loss: 0.4780 - val_accuracy: 0.6875 - val_loss: 0.5392 - learning_rate: 0.0010\n",
            "Epoch 14/15\n",
            "\u001b[1m164/164\u001b[0m \u001b[32m━━━━━━━━━━━━━━━━━━━━\u001b[0m\u001b[37m\u001b[0m \u001b[1m0s\u001b[0m 732ms/step - accuracy: 0.7807 - loss: 0.4694\n",
            "Epoch 14: ReduceLROnPlateau reducing learning rate to 0.00020000000949949026.\n",
            "\n",
            "Epoch 14: val_accuracy did not improve from 0.75000\n",
            "\u001b[1m164/164\u001b[0m \u001b[32m━━━━━━━━━━━━━━━━━━━━\u001b[0m\u001b[37m\u001b[0m \u001b[1m121s\u001b[0m 736ms/step - accuracy: 0.7807 - loss: 0.4694 - val_accuracy: 0.6250 - val_loss: 0.5813 - learning_rate: 0.0010\n",
            "Epoch 15/15\n",
            "\u001b[1m164/164\u001b[0m \u001b[32m━━━━━━━━━━━━━━━━━━━━\u001b[0m\u001b[37m\u001b[0m \u001b[1m0s\u001b[0m 735ms/step - accuracy: 0.7947 - loss: 0.4514\n",
            "Epoch 15: val_accuracy did not improve from 0.75000\n",
            "\u001b[1m164/164\u001b[0m \u001b[32m━━━━━━━━━━━━━━━━━━━━\u001b[0m\u001b[37m\u001b[0m \u001b[1m121s\u001b[0m 737ms/step - accuracy: 0.7947 - loss: 0.4514 - val_accuracy: 0.6250 - val_loss: 0.6057 - learning_rate: 2.0000e-04\n",
            "Restoring model weights from the end of the best epoch: 11.\n"
          ]
        }
      ]
    },
    {
      "cell_type": "code",
      "source": [
        "# Unfreeze the last few layers of ResNet-50\n",
        "base_model.trainable = True\n",
        "for layer in base_model.layers[:-20]:  # Keep early layers frozen\n",
        "    layer.trainable = False\n",
        "\n",
        "# Recompile with lower learning rate\n",
        "model.compile(\n",
        "    optimizer=Adam(learning_rate=0.0001),  # Lower learning rate\n",
        "    loss='binary_crossentropy',\n",
        "    metrics=['accuracy']\n",
        ")\n",
        "\n",
        "\n"
      ],
      "metadata": {
        "id": "tnbfno5cob-K"
      },
      "id": "tnbfno5cob-K",
      "execution_count": 25,
      "outputs": []
    },
    {
      "cell_type": "code",
      "source": [
        "# Continue training\n",
        "history_fine = model.fit(\n",
        "    train_generator,\n",
        "    epochs=10,\n",
        "    validation_data=val_generator,\n",
        "    callbacks=callbacks,\n",
        "    class_weight=class_weight,\n",
        "    verbose=1\n",
        ")"
      ],
      "metadata": {
        "colab": {
          "base_uri": "https://localhost:8080/"
        },
        "id": "W7FAA70G7FkV",
        "outputId": "290453c4-e858-47c5-feea-4b13b370e641"
      },
      "id": "W7FAA70G7FkV",
      "execution_count": 26,
      "outputs": [
        {
          "output_type": "stream",
          "name": "stdout",
          "text": [
            "Epoch 1/10\n",
            "\u001b[1m164/164\u001b[0m \u001b[32m━━━━━━━━━━━━━━━━━━━━\u001b[0m\u001b[37m\u001b[0m \u001b[1m0s\u001b[0m 783ms/step - accuracy: 0.7041 - loss: 0.6130\n",
            "Epoch 1: val_accuracy did not improve from 0.75000\n",
            "\u001b[1m164/164\u001b[0m \u001b[32m━━━━━━━━━━━━━━━━━━━━\u001b[0m\u001b[37m\u001b[0m \u001b[1m152s\u001b[0m 815ms/step - accuracy: 0.7044 - loss: 0.6121 - val_accuracy: 0.5625 - val_loss: 0.6528 - learning_rate: 1.0000e-04\n",
            "Epoch 2/10\n",
            "\u001b[1m164/164\u001b[0m \u001b[32m━━━━━━━━━━━━━━━━━━━━\u001b[0m\u001b[37m\u001b[0m \u001b[1m0s\u001b[0m 747ms/step - accuracy: 0.8291 - loss: 0.3855\n",
            "Epoch 2: val_accuracy did not improve from 0.75000\n",
            "\u001b[1m164/164\u001b[0m \u001b[32m━━━━━━━━━━━━━━━━━━━━\u001b[0m\u001b[37m\u001b[0m \u001b[1m183s\u001b[0m 750ms/step - accuracy: 0.8291 - loss: 0.3854 - val_accuracy: 0.6875 - val_loss: 0.5602 - learning_rate: 1.0000e-04\n",
            "Epoch 3/10\n",
            "\u001b[1m164/164\u001b[0m \u001b[32m━━━━━━━━━━━━━━━━━━━━\u001b[0m\u001b[37m\u001b[0m \u001b[1m0s\u001b[0m 745ms/step - accuracy: 0.8626 - loss: 0.3176\n",
            "Epoch 3: val_accuracy did not improve from 0.75000\n",
            "\u001b[1m164/164\u001b[0m \u001b[32m━━━━━━━━━━━━━━━━━━━━\u001b[0m\u001b[37m\u001b[0m \u001b[1m122s\u001b[0m 747ms/step - accuracy: 0.8626 - loss: 0.3176 - val_accuracy: 0.7500 - val_loss: 0.5844 - learning_rate: 1.0000e-04\n",
            "Epoch 4/10\n",
            "\u001b[1m164/164\u001b[0m \u001b[32m━━━━━━━━━━━━━━━━━━━━\u001b[0m\u001b[37m\u001b[0m \u001b[1m0s\u001b[0m 756ms/step - accuracy: 0.8748 - loss: 0.2967\n",
            "Epoch 4: val_accuracy did not improve from 0.75000\n",
            "\u001b[1m164/164\u001b[0m \u001b[32m━━━━━━━━━━━━━━━━━━━━\u001b[0m\u001b[37m\u001b[0m \u001b[1m124s\u001b[0m 758ms/step - accuracy: 0.8747 - loss: 0.2967 - val_accuracy: 0.6875 - val_loss: 0.8226 - learning_rate: 1.0000e-04\n",
            "Epoch 5/10\n",
            "\u001b[1m164/164\u001b[0m \u001b[32m━━━━━━━━━━━━━━━━━━━━\u001b[0m\u001b[37m\u001b[0m \u001b[1m0s\u001b[0m 737ms/step - accuracy: 0.8679 - loss: 0.2889\n",
            "Epoch 5: ReduceLROnPlateau reducing learning rate to 1.9999999494757503e-05.\n",
            "\n",
            "Epoch 5: val_accuracy did not improve from 0.75000\n",
            "\u001b[1m164/164\u001b[0m \u001b[32m━━━━━━━━━━━━━━━━━━━━\u001b[0m\u001b[37m\u001b[0m \u001b[1m121s\u001b[0m 739ms/step - accuracy: 0.8679 - loss: 0.2890 - val_accuracy: 0.6250 - val_loss: 1.4772 - learning_rate: 1.0000e-04\n",
            "Epoch 6/10\n",
            "\u001b[1m164/164\u001b[0m \u001b[32m━━━━━━━━━━━━━━━━━━━━\u001b[0m\u001b[37m\u001b[0m \u001b[1m0s\u001b[0m 746ms/step - accuracy: 0.8783 - loss: 0.2667\n",
            "Epoch 6: val_accuracy did not improve from 0.75000\n",
            "\u001b[1m164/164\u001b[0m \u001b[32m━━━━━━━━━━━━━━━━━━━━\u001b[0m\u001b[37m\u001b[0m \u001b[1m123s\u001b[0m 748ms/step - accuracy: 0.8783 - loss: 0.2667 - val_accuracy: 0.6250 - val_loss: 1.3856 - learning_rate: 2.0000e-05\n",
            "Epoch 7/10\n",
            "\u001b[1m164/164\u001b[0m \u001b[32m━━━━━━━━━━━━━━━━━━━━\u001b[0m\u001b[37m\u001b[0m \u001b[1m0s\u001b[0m 729ms/step - accuracy: 0.8789 - loss: 0.2657\n",
            "Epoch 7: val_accuracy did not improve from 0.75000\n",
            "\u001b[1m164/164\u001b[0m \u001b[32m━━━━━━━━━━━━━━━━━━━━\u001b[0m\u001b[37m\u001b[0m \u001b[1m121s\u001b[0m 733ms/step - accuracy: 0.8789 - loss: 0.2656 - val_accuracy: 0.7500 - val_loss: 0.6030 - learning_rate: 2.0000e-05\n",
            "Epoch 7: early stopping\n",
            "Restoring model weights from the end of the best epoch: 2.\n"
          ]
        }
      ]
    },
    {
      "cell_type": "code",
      "source": [
        "print(f\"\\n📊 Evaluating model on test set...\")\n",
        "\n",
        "# Get test predictions\n",
        "test_generator.reset()\n",
        "predictions = model.predict(test_generator)\n",
        "predicted_classes = (predictions > 0.5).astype(int).flatten()\n",
        "\n",
        "# Get true labels\n",
        "true_labels = test_generator.classes\n",
        "\n",
        "# Calculate metrics\n",
        "accuracy = accuracy_score(true_labels, predicted_classes)\n",
        "precision = precision_score(true_labels, predicted_classes)\n",
        "recall = recall_score(true_labels, predicted_classes)\n",
        "auc = roc_auc_score(true_labels, predictions)\n",
        "\n",
        "print(f\"\\n🎯 TEST RESULTS:\")\n",
        "print(\"=\" * 30)\n",
        "print(f\"Accuracy:  {accuracy:.4f}\")\n",
        "print(f\"Precision: {precision:.4f}\")\n",
        "print(f\"Recall:    {recall:.4f}\")\n",
        "print(f\"AUC-ROC:   {auc:.4f}\")\n",
        "\n",
        "# Classification report\n",
        "print(f\"\\n📋 Detailed Classification Report:\")\n",
        "print(classification_report(true_labels, predicted_classes,\n",
        "                          target_names=['Normal', 'Pneumonia']))"
      ],
      "metadata": {
        "colab": {
          "base_uri": "https://localhost:8080/"
        },
        "id": "X8RS5ZEz7YdO",
        "outputId": "8f89bbcd-decb-4ccc-f06f-366c48dc2017"
      },
      "id": "X8RS5ZEz7YdO",
      "execution_count": 31,
      "outputs": [
        {
          "output_type": "stream",
          "name": "stdout",
          "text": [
            "\n",
            "📊 Evaluating model on test set...\n",
            "\u001b[1m20/20\u001b[0m \u001b[32m━━━━━━━━━━━━━━━━━━━━\u001b[0m\u001b[37m\u001b[0m \u001b[1m206s\u001b[0m 11s/step\n",
            "\n",
            "🎯 TEST RESULTS:\n",
            "==============================\n",
            "Accuracy:  0.8253\n",
            "Precision: 0.8808\n",
            "Recall:    0.8333\n",
            "AUC-ROC:   0.8923\n",
            "\n",
            "📋 Detailed Classification Report:\n",
            "              precision    recall  f1-score   support\n",
            "\n",
            "      Normal       0.75      0.81      0.78       234\n",
            "   Pneumonia       0.88      0.83      0.86       390\n",
            "\n",
            "    accuracy                           0.83       624\n",
            "   macro avg       0.81      0.82      0.82       624\n",
            "weighted avg       0.83      0.83      0.83       624\n",
            "\n"
          ]
        }
      ]
    },
    {
      "cell_type": "code",
      "source": [
        "def plot_training_history(istory, history_fine=None):\n",
        "    \"\"\"Plot training and validation metrics\"\"\"\n",
        "    fig, axes = plt.subplots(1, 2, figsize=(15, 5))\n",
        "\n",
        "    # Combine histories if fine-tuning was done\n",
        "    if history_fine:\n",
        "        acc = istory.history['accuracy'] + history_fine.history['accuracy']\n",
        "        val_acc = istory.history['val_accuracy'] + history_fine.history['val_accuracy']\n",
        "        loss = istory.history['loss'] + history_fine.history['loss']\n",
        "        val_loss = istory.history['val_loss'] + history_fine.history['val_loss']\n",
        "    else:\n",
        "        acc = istory.history['accuracy']\n",
        "        val_acc = istory.history['val_accuracy']\n",
        "        loss = istory.history['loss']\n",
        "        val_loss = istory.history['val_loss']\n",
        "\n",
        "    epochs = range(1, len(acc) + 1)\n",
        "\n",
        "    # Accuracy plot\n",
        "    axes[0].plot(epochs, acc, 'bo-', label='Training Accuracy')\n",
        "    axes[0].plot(epochs, val_acc, 'ro-', label='Validation Accuracy')\n",
        "    axes[0].set_title('Training and Validation Accuracy')\n",
        "    axes[0].set_xlabel('Epochs')\n",
        "    axes[0].set_ylabel('Accuracy')\n",
        "    axes[0].legend()\n",
        "    axes[0].grid(True)\n",
        "\n",
        "    # Loss plot\n",
        "    axes[1].plot(epochs, loss, 'bo-', label='Training Loss')\n",
        "    axes[1].plot(epochs, val_loss, 'ro-', label='Validation Loss')\n",
        "    axes[1].set_title('Training and Validation Loss')\n",
        "    axes[1].set_xlabel('Epochs')\n",
        "    axes[1].set_ylabel('Loss')\n",
        "    axes[1].legend()\n",
        "    axes[1].grid(True)\n",
        "\n",
        "    plt.tight_layout()\n",
        "    plt.show()\n"
      ],
      "metadata": {
        "id": "tny6-eVl_dE7"
      },
      "id": "tny6-eVl_dE7",
      "execution_count": 2,
      "outputs": []
    },
    {
      "cell_type": "code",
      "source": [
        "plot_training_history(istory, history_fine)"
      ],
      "metadata": {
        "colab": {
          "base_uri": "https://localhost:8080/",
          "height": 146
        },
        "id": "AAXkAn1MD-5B",
        "outputId": "e7f66795-ab5b-4663-c1d6-cac0bb98e89d"
      },
      "id": "AAXkAn1MD-5B",
      "execution_count": 3,
      "outputs": [
        {
          "output_type": "error",
          "ename": "NameError",
          "evalue": "name 'istory' is not defined",
          "traceback": [
            "\u001b[0;31m---------------------------------------------------------------------------\u001b[0m",
            "\u001b[0;31mNameError\u001b[0m                                 Traceback (most recent call last)",
            "\u001b[0;32m/tmp/ipython-input-4190305959.py\u001b[0m in \u001b[0;36m<cell line: 0>\u001b[0;34m()\u001b[0m\n\u001b[0;32m----> 1\u001b[0;31m \u001b[0mplot_training_history\u001b[0m\u001b[0;34m(\u001b[0m\u001b[0mistory\u001b[0m\u001b[0;34m,\u001b[0m \u001b[0mhistory_fine\u001b[0m\u001b[0;34m)\u001b[0m\u001b[0;34m\u001b[0m\u001b[0;34m\u001b[0m\u001b[0m\n\u001b[0m",
            "\u001b[0;31mNameError\u001b[0m: name 'istory' is not defined"
          ]
        }
      ]
    },
    {
      "cell_type": "code",
      "source": [],
      "metadata": {
        "id": "atQAjczAEDn6"
      },
      "id": "atQAjczAEDn6",
      "execution_count": 34,
      "outputs": []
    },
    {
      "cell_type": "code",
      "source": [],
      "metadata": {
        "id": "HA7cLR7xEG59"
      },
      "id": "HA7cLR7xEG59",
      "execution_count": null,
      "outputs": []
    },
    {
      "cell_type": "code",
      "source": [],
      "metadata": {
        "id": "SxqFkhNzEJYd"
      },
      "id": "SxqFkhNzEJYd",
      "execution_count": null,
      "outputs": []
    }
  ],
  "metadata": {
    "kernelspec": {
      "display_name": "Python 3.11 (tf_env)",
      "language": "python",
      "name": "tf_env"
    },
    "language_info": {
      "codemirror_mode": {
        "name": "ipython",
        "version": 3
      },
      "file_extension": ".py",
      "mimetype": "text/x-python",
      "name": "python",
      "nbconvert_exporter": "python",
      "pygments_lexer": "ipython3",
      "version": "3.12.4"
    },
    "colab": {
      "provenance": [],
      "toc_visible": true,
      "gpuType": "T4"
    },
    "accelerator": "GPU"
  },
  "nbformat": 4,
  "nbformat_minor": 5
}